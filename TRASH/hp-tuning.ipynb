{
 "cells": [
  {
   "cell_type": "code",
   "execution_count": null,
   "metadata": {},
   "outputs": [],
   "source": [
    "import random\n",
    "import logging\n",
    "\n",
    "logger = logging.getLogger()\n",
    "logger.disabled = True\n",
    "\n",
    "from agent import DQNAgent\n",
    "\n",
    "for i in range(10000):\n",
    "    random.seed(i)\n",
    "    # batch_size = random.choice([4, 8, 16, 32])\n",
    "    batch_size = random.choice([128, 256, 512])\n",
    "    warm_start = random.choice(\n",
    "        [batch_size, 2 * batch_size, 4 * batch_size, 8 * batch_size]\n",
    "    )\n",
    "    replay_buffer_size = random.choice(\n",
    "        [warm_start, 2 * warm_start, 4 * warm_start, 8 * warm_start]\n",
    "    )\n",
    "    gamma = random.random()\n",
    "    target_update_interval = random.randint(1, 128)\n",
    "    ddqn = random.choice([True, False])\n",
    "    dueling_dqn = random.choice([True, False])\n",
    "\n",
    "    all_params = {\n",
    "        \"env_str\": \"room_env:RoomEnv-v1\",\n",
    "        \"des_size\": \"s\",\n",
    "        \"max_epsilon\": 1.0,\n",
    "        \"min_epsilon\": 0.1,\n",
    "        \"epsilon_decay_until\": 128 * 16,\n",
    "        \"gamma\": gamma,\n",
    "        \"capacity\": {\"episodic\": 4, \"semantic\": 4, \"short\": 1},\n",
    "        \"nn_params\": {\n",
    "            \"hidden_size\": 32,\n",
    "            \"num_layers\": 2,\n",
    "            \"embedding_dim\": 16,\n",
    "            \"v1_params\": {\n",
    "                \"include_human\": \"sum\",\n",
    "                \"human_embedding_on_object_location\": False,\n",
    "            },\n",
    "            \"v2_params\": None,\n",
    "        },\n",
    "        \"num_iterations\": 128 * 16,\n",
    "        \"replay_buffer_size\": replay_buffer_size,\n",
    "        \"warm_start\": warm_start,\n",
    "        \"batch_size\": batch_size,\n",
    "        \"target_update_interval\": target_update_interval,\n",
    "        \"pretrain_semantic\": False,\n",
    "        \"run_test\": True,\n",
    "        \"num_samples_for_results\": 10,\n",
    "        \"train_seed\": 5,\n",
    "        \"plotting_interval\": 10,\n",
    "        \"device\": \"cpu\",\n",
    "        \"test_seed\": 0,\n",
    "        \"ddqn\": ddqn,\n",
    "        \"dueling_dqn\": dueling_dqn,\n",
    "        \"default_root_dir\": \"./training_results/hp-tuning-s/\",\n",
    "    }\n",
    "\n",
    "    agent = DQNAgent(**all_params)\n",
    "    agent.train()"
   ]
  }
 ],
 "metadata": {
  "interpreter": {
   "hash": "c7c14ce45c674ffbe7e3a8bc18299264a1035542c780d18c0e8f0c585e044f28"
  },
  "kernelspec": {
   "display_name": "Python 3.8.12 ('dev-python3.8')",
   "language": "python",
   "name": "python3"
  },
  "language_info": {
   "codemirror_mode": {
    "name": "ipython",
    "version": 3
   },
   "file_extension": ".py",
   "mimetype": "text/x-python",
   "name": "python",
   "nbconvert_exporter": "python",
   "pygments_lexer": "ipython3",
   "version": "3.10.12"
  },
  "orig_nbformat": 4
 },
 "nbformat": 4,
 "nbformat_minor": 2
}
